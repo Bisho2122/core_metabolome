{
 "cells": [
  {
   "cell_type": "code",
   "execution_count": 2,
   "metadata": {},
   "outputs": [],
   "source": [
    "import numpy as np\n",
    "import pandas as pd\n",
    "import seaborn as sns\n",
    "import matplotlib.pyplot as plt\n",
    "\n",
    "sns.set(style=\"ticks\")"
   ]
  },
  {
   "cell_type": "code",
   "execution_count": 3,
   "metadata": {},
   "outputs": [],
   "source": [
    "rs = np.random.RandomState(4)\n",
    "pos = rs.randint(-1, 2, (20, 5)).cumsum(axis=1)\n",
    "pos -= pos[:, 0, np.newaxis]\n",
    "step = np.tile(range(5), 20)\n",
    "walk = np.repeat(range(20), 5)\n",
    "df = pd.DataFrame(np.c_[pos.flat, step, walk],\n",
    "                  columns=[\"position\", \"step\", \"walk\"])"
   ]
  },
  {
   "cell_type": "code",
   "execution_count": 8,
   "metadata": {},
   "outputs": [],
   "source": [
    "expt_df = pd.read_csv('/Users/dis/PycharmProjects/core_metabolome/whole_body_imaging_core_metabolome_v3.xlsx - pivot.csv')"
   ]
  },
  {
   "cell_type": "code",
   "execution_count": 11,
   "metadata": {},
   "outputs": [],
   "source": [
    "df = expt_df[expt_df.FDR != 50]"
   ]
  },
  {
   "cell_type": "code",
   "execution_count": 12,
   "metadata": {},
   "outputs": [
    {
     "data": {
      "text/html": [
       "<div>\n",
       "<style scoped>\n",
       "    .dataframe tbody tr th:only-of-type {\n",
       "        vertical-align: middle;\n",
       "    }\n",
       "\n",
       "    .dataframe tbody tr th {\n",
       "        vertical-align: top;\n",
       "    }\n",
       "\n",
       "    .dataframe thead th {\n",
       "        text-align: right;\n",
       "    }\n",
       "</style>\n",
       "<table border=\"1\" class=\"dataframe\">\n",
       "  <thead>\n",
       "    <tr style=\"text-align: right;\">\n",
       "      <th></th>\n",
       "      <th>id</th>\n",
       "      <th>name</th>\n",
       "      <th>FDR</th>\n",
       "      <th>n_obs</th>\n",
       "      <th>Set</th>\n",
       "      <th>database</th>\n",
       "    </tr>\n",
       "  </thead>\n",
       "  <tbody>\n",
       "    <tr>\n",
       "      <td>0</td>\n",
       "      <td>2017-07-24_19h42m31s</td>\n",
       "      <td>Servier_Ctrl_mouse_wb_lateral_plane_9aa</td>\n",
       "      <td>5</td>\n",
       "      <td>4</td>\n",
       "      <td>1</td>\n",
       "      <td>HMDB-v4</td>\n",
       "    </tr>\n",
       "    <tr>\n",
       "      <td>1</td>\n",
       "      <td>2017-07-24_19h42m31s</td>\n",
       "      <td>Servier_Ctrl_mouse_wb_lateral_plane_9aa</td>\n",
       "      <td>10</td>\n",
       "      <td>33</td>\n",
       "      <td>1</td>\n",
       "      <td>HMDB-v4</td>\n",
       "    </tr>\n",
       "    <tr>\n",
       "      <td>2</td>\n",
       "      <td>2017-07-24_19h42m31s</td>\n",
       "      <td>Servier_Ctrl_mouse_wb_lateral_plane_9aa</td>\n",
       "      <td>20</td>\n",
       "      <td>57</td>\n",
       "      <td>1</td>\n",
       "      <td>HMDB-v4</td>\n",
       "    </tr>\n",
       "    <tr>\n",
       "      <td>4</td>\n",
       "      <td>2017-08-03_15h09m51s</td>\n",
       "      <td>Servier_Ctrl_mouse_wb_lateral_plane_chca</td>\n",
       "      <td>5</td>\n",
       "      <td>20</td>\n",
       "      <td>2</td>\n",
       "      <td>HMDB-v4</td>\n",
       "    </tr>\n",
       "    <tr>\n",
       "      <td>5</td>\n",
       "      <td>2017-08-03_15h09m51s</td>\n",
       "      <td>Servier_Ctrl_mouse_wb_lateral_plane_chca</td>\n",
       "      <td>10</td>\n",
       "      <td>41</td>\n",
       "      <td>2</td>\n",
       "      <td>HMDB-v4</td>\n",
       "    </tr>\n",
       "    <tr>\n",
       "      <td>...</td>\n",
       "      <td>...</td>\n",
       "      <td>...</td>\n",
       "      <td>...</td>\n",
       "      <td>...</td>\n",
       "      <td>...</td>\n",
       "      <td>...</td>\n",
       "    </tr>\n",
       "    <tr>\n",
       "      <td>125</td>\n",
       "      <td>2017-05-17_19h49m04s</td>\n",
       "      <td>whole body xenograft (1) [RMS norm]</td>\n",
       "      <td>10</td>\n",
       "      <td>166</td>\n",
       "      <td>32</td>\n",
       "      <td>core_metabolome_v3</td>\n",
       "    </tr>\n",
       "    <tr>\n",
       "      <td>126</td>\n",
       "      <td>2017-05-17_19h49m04s</td>\n",
       "      <td>whole body xenograft (1) [RMS norm]</td>\n",
       "      <td>20</td>\n",
       "      <td>318</td>\n",
       "      <td>32</td>\n",
       "      <td>core_metabolome_v3</td>\n",
       "    </tr>\n",
       "    <tr>\n",
       "      <td>128</td>\n",
       "      <td>2017-05-30_06h56m05s</td>\n",
       "      <td>whole body xenograft (2) [RMS norm]</td>\n",
       "      <td>5</td>\n",
       "      <td>108</td>\n",
       "      <td>33</td>\n",
       "      <td>core_metabolome_v3</td>\n",
       "    </tr>\n",
       "    <tr>\n",
       "      <td>129</td>\n",
       "      <td>2017-05-30_06h56m05s</td>\n",
       "      <td>whole body xenograft (2) [RMS norm]</td>\n",
       "      <td>10</td>\n",
       "      <td>178</td>\n",
       "      <td>33</td>\n",
       "      <td>core_metabolome_v3</td>\n",
       "    </tr>\n",
       "    <tr>\n",
       "      <td>130</td>\n",
       "      <td>2017-05-30_06h56m05s</td>\n",
       "      <td>whole body xenograft (2) [RMS norm]</td>\n",
       "      <td>20</td>\n",
       "      <td>315</td>\n",
       "      <td>33</td>\n",
       "      <td>core_metabolome_v3</td>\n",
       "    </tr>\n",
       "  </tbody>\n",
       "</table>\n",
       "<p>99 rows × 6 columns</p>\n",
       "</div>"
      ],
      "text/plain": [
       "                       id                                      name  FDR  \\\n",
       "0    2017-07-24_19h42m31s   Servier_Ctrl_mouse_wb_lateral_plane_9aa    5   \n",
       "1    2017-07-24_19h42m31s   Servier_Ctrl_mouse_wb_lateral_plane_9aa   10   \n",
       "2    2017-07-24_19h42m31s   Servier_Ctrl_mouse_wb_lateral_plane_9aa   20   \n",
       "4    2017-08-03_15h09m51s  Servier_Ctrl_mouse_wb_lateral_plane_chca    5   \n",
       "5    2017-08-03_15h09m51s  Servier_Ctrl_mouse_wb_lateral_plane_chca   10   \n",
       "..                    ...                                       ...  ...   \n",
       "125  2017-05-17_19h49m04s       whole body xenograft (1) [RMS norm]   10   \n",
       "126  2017-05-17_19h49m04s       whole body xenograft (1) [RMS norm]   20   \n",
       "128  2017-05-30_06h56m05s       whole body xenograft (2) [RMS norm]    5   \n",
       "129  2017-05-30_06h56m05s       whole body xenograft (2) [RMS norm]   10   \n",
       "130  2017-05-30_06h56m05s       whole body xenograft (2) [RMS norm]   20   \n",
       "\n",
       "     n_obs  Set            database  \n",
       "0        4    1             HMDB-v4  \n",
       "1       33    1             HMDB-v4  \n",
       "2       57    1             HMDB-v4  \n",
       "4       20    2             HMDB-v4  \n",
       "5       41    2             HMDB-v4  \n",
       "..     ...  ...                 ...  \n",
       "125    166   32  core_metabolome_v3  \n",
       "126    318   32  core_metabolome_v3  \n",
       "128    108   33  core_metabolome_v3  \n",
       "129    178   33  core_metabolome_v3  \n",
       "130    315   33  core_metabolome_v3  \n",
       "\n",
       "[99 rows x 6 columns]"
      ]
     },
     "execution_count": 12,
     "metadata": {},
     "output_type": "execute_result"
    }
   ],
   "source": [
    "df"
   ]
  },
  {
   "cell_type": "code",
   "execution_count": 16,
   "metadata": {},
   "outputs": [
    {
     "data": {
      "text/plain": [
       "382"
      ]
     },
     "execution_count": 16,
     "metadata": {},
     "output_type": "execute_result"
    }
   ],
   "source": [
    "df.n_obs.max()"
   ]
  },
  {
   "cell_type": "code",
   "execution_count": 17,
   "metadata": {},
   "outputs": [
    {
     "data": {
      "image/png": "[encoded data removed]",
      "text/plain": [
       "<Figure size 1188x324 with 33 Axes>"
      ]
     },
     "metadata": {},
     "output_type": "display_data"
    }
   ],
   "source": [
    "# Initialize a grid of plots with an Axes for each walk\n",
    "grid = sns.FacetGrid(df, col=\"Set\", hue=\"Set\", palette=\"tab20c\",\n",
    "                     col_wrap=11, height=1.5)\n",
    "\n",
    "# Draw a line plot to show the trajectory of each random walk\n",
    "grid.map(plt.plot, \"FDR\", \"n_obs\", marker=\"o\")\n",
    "\n",
    "# Adjust the tick positions and labels\n",
    "grid.set(xticks=np.arange(5), yticks=[-3, 3],\n",
    "         xlim=(0, 25), ylim=(0, 400))\n",
    "\n",
    "# Adjust the arrangement of the plots\n",
    "grid.fig.tight_layout(w_pad=1)"
   ]
  },
  {
   "cell_type": "code",
   "execution_count": null,
   "metadata": {},
   "outputs": [],
   "source": []
  }
 ],
 "metadata": {
  "kernelspec": {
   "display_name": "Python 3",
   "language": "python",
   "name": "python3"
  },
  "language_info": {
   "codemirror_mode": {
    "name": "ipython",
    "version": 3
   },
   "file_extension": ".py",
   "mimetype": "text/x-python",
   "name": "python",
   "nbconvert_exporter": "python",
   "pygments_lexer": "ipython3",
   "version": "3.6.8"
  }
 },
 "nbformat": 4,
 "nbformat_minor": 2
}
