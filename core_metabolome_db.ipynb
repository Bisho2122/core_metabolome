{
 "cells": [
  {
   "cell_type": "code",
   "execution_count": 1,
   "metadata": {},
   "outputs": [],
   "source": [
    "%load_ext autoreload\n",
    "%autoreload 2"
   ]
  },
  {
   "cell_type": "code",
   "execution_count": 2,
   "metadata": {},
   "outputs": [],
   "source": [
    "import re\n",
    "from rdkit import Chem\n",
    "import pandas as pd\n",
    "import numpy as np\n",
    "from molmass import Formula\n",
    "from matplotlib import pyplot as plt\n",
    "\n",
    "import pickle\n",
    "from pandas import DataFrame as df\n",
    "from rdkit.Chem.Draw import IPythonConsole\n",
    "import ast\n",
    "from rdkit.Chem.rdMolDescriptors import CalcMolFormula\n",
    "from rdkit.Chem.inchi import MolToInchi\n",
    "from rdkit.Chem.rdmolfiles import MolFromSmiles\n",
    "\n",
    "import xml.etree.ElementTree as ET"
   ]
  },
  {
   "cell_type": "code",
   "execution_count": 3,
   "metadata": {},
   "outputs": [],
   "source": [
    "hmdb = pd.read_pickle('db/hmdb_out_molecule')"
   ]
  },
  {
   "cell_type": "markdown",
   "metadata": {},
   "source": [
    "### Identifying a \"core metabolome\"\n",
    "\n",
    "Rationale:  Searching against all of HMDB is problematic, due to the large number of drugs, exogenous metabolites, and theoretical metabolites.  As well, many human specific metabolites may not be expected over the diverse datasets in METASPACE.\n",
    "\n",
    "The goal of this notebook, is to identify a \"core metabolome\" with reasonable coverage across species, a good chance of biological relevance, and a high-likelihood of being observed in MS experiments.\n",
    "\n",
    "-Components:\n",
    "1. Intersection of HMDB,* ECMDB,* YMDB* == core metabolites.\n",
    "2. KEGG == core metabolites.*\n",
    "3. Lipid Maps* == core lipids.\n",
    "4. MSMLS (CMBR stds)* == likelihood of biological relevance since available.\n",
    "5. Veronika's standards* == likelihood of biological relevance since available.\n",
    "6. HMDB* with evidence of existence (observed/quantitated) == detectability.\n",
    "7. Mayo clinic targeted* == biological/medical relevance.\n",
    "*=DL'd data\n",
    "https://docs.google.com/spreadsheets/d/1o0RMxNtcweox-zwEV2Qdvj9ErKrzFxTtCW5zhZTz1dE/edit?usp=sharing\n",
    "\n",
    "-Done:\n",
    "1. Download DB's.\n",
    "\n",
    "-To do:\n",
    "2. Parse to Pandas.\n",
    "2. Compare across DB's as RDkit object.\n",
    "3. Write final DB with ascension numbers.\n",
    "4. Output to Vitally for custom DB on beta."
   ]
  },
  {
   "cell_type": "code",
   "execution_count": null,
   "metadata": {},
   "outputs": [],
   "source": []
  },
  {
   "cell_type": "code",
   "execution_count": 6,
   "metadata": {},
   "outputs": [],
   "source": [
    "# Export: http://www.hmdb.ca/metabolites?utf8=%E2%9C%93&quantified=1&detected=1&filter=true\n",
    "hmdb_detected = list(pd.read_csv('db/hmdb_detected', sep=',').HMDB_ID)\n",
    "hmdb_det_df = hmdb[hmdb.id.isin(hmdb_detected)].copy(deep=True)"
   ]
  },
  {
   "cell_type": "code",
   "execution_count": 21,
   "metadata": {},
   "outputs": [],
   "source": [
    "def can_smiles(smiles):\n",
    "    try:\n",
    "        return Chem.MolToSmiles(Chem.MolFromSmiles(smiles),True)\n",
    "    except:\n",
    "        return np.nan"
   ]
  },
  {
   "cell_type": "code",
   "execution_count": 24,
   "metadata": {},
   "outputs": [
    {
     "name": "stderr",
     "output_type": "stream",
     "text": [
      "RDKit ERROR: [14:44:09] Explicit valence for atom # 1 N, 4, is greater than permitted\n",
      "RDKit ERROR: [14:44:09] Explicit valence for atom # 10 N, 4, is greater than permitted\n",
      "RDKit ERROR: [14:44:09] Explicit valence for atom # 31 N, 4, is greater than permitted\n",
      "RDKit WARNING: [14:44:09] WARNING: not removing hydrogen atom without neighbors\n"
     ]
    }
   ],
   "source": [
    "ecmdb_df = pd.read_json('db/ecmdb.json')\n",
    "ecmdb_df['can_smiles'] = ecmdb_df['moldb_smiles'].apply(lambda x: can_smiles(x))\n",
    "ecmdb_df = ecmdb_df.dropna(subset=['can_smiles'])"
   ]
  },
  {
   "cell_type": "code",
   "execution_count": 27,
   "metadata": {},
   "outputs": [
    {
     "data": {
      "text/plain": [
       "795"
      ]
     },
     "execution_count": 27,
     "metadata": {},
     "output_type": "execute_result"
    }
   ],
   "source": [
    "# Directly comparing smiles overlap between both databases!\n",
    "h = hmdb.Smiles\n",
    "e = ecmdb_df.can_smiles #\n",
    "he_core = list(set(h).intersection(e))\n",
    "len(list(set(h).intersection(e)))"
   ]
  },
  {
   "cell_type": "code",
   "execution_count": 50,
   "metadata": {},
   "outputs": [
    {
     "name": "stderr",
     "output_type": "stream",
     "text": [
      "RDKit ERROR: [14:55:20] ERROR: Can't kekulize mol.  Unkekulized atoms: 6 7 8 9 10 11 12 13 14\n",
      "RDKit ERROR: \n",
      "RDKit ERROR: [14:56:57] Explicit valence for atom # 28 N, 4, is greater than permitted\n",
      "RDKit ERROR: [14:56:57] ERROR: Could not sanitize molecule ending on line 5686\n",
      "RDKit WARNING: [14:56:57] WARNING: not removing hydrogen atom without neighbors\n",
      "RDKit ERROR: [14:56:57] ERROR: Explicit valence for atom # 28 N, 4, is greater than permitted\n",
      "RDKit ERROR: [14:56:57] Explicit valence for atom # 28 N, 4, is greater than permitted\n",
      "RDKit ERROR: [14:56:57] ERROR: Could not sanitize molecule ending on line 118027\n",
      "RDKit ERROR: [14:56:57] ERROR: Explicit valence for atom # 28 N, 4, is greater than permitted\n",
      "RDKit ERROR: [14:56:57] Explicit valence for atom # 21 N, 4, is greater than permitted\n",
      "RDKit ERROR: [14:56:57] ERROR: Could not sanitize molecule ending on line 203103\n",
      "RDKit ERROR: [14:56:57] ERROR: Explicit valence for atom # 21 N, 4, is greater than permitted\n",
      "RDKit ERROR: [14:56:57] Can't kekulize mol.  Unkekulized atoms: 6 7 8 9 10 11 12 13 14\n",
      "RDKit ERROR: \n",
      "RDKit ERROR: [14:56:57] ERROR: Could not sanitize molecule ending on line 225919\n",
      "RDKit WARNING: [14:56:58] WARNING: not removing hydrogen atom without neighbors\n"
     ]
    }
   ],
   "source": [
    "from rdkit.Chem.PandasTools import LoadSDF\n",
    "ymdb_df = LoadSDF('db/ymdb.sdf', smilesName='smiles')\n",
    "ymdb_df['can_smiles'] = ymdb_df['SMILES'].apply(lambda x: can_smiles(x))\n",
    "ymdb_df = ymdb_df.dropna(subset=['can_smiles'])\n",
    "ymdb_list = list(ymdb_df.can_smiles)\n",
    "hey_core = list(set(he_core).intersection(ymdb_list))\n",
    "hmdb_hey_df = hmdb[hmdb.Smiles.isin(hey_core)].copy(deep=True)"
   ]
  },
  {
   "cell_type": "code",
   "execution_count": 156,
   "metadata": {},
   "outputs": [],
   "source": [
    "kegg_ids = []\n",
    "with open('db/kegg_bio_cmpds.json', 'r') as k_file:\n",
    "    for k_line in k_file:\n",
    "        if ':\"C' in k_line:\n",
    "            var = k_line.split(':\"')[1].split('  ')[0]\n",
    "            kegg_ids.append(var)\n",
    "        else:\n",
    "            continue\n",
    "temp = kegg_ids\n",
    "for k in temp:\n",
    "    if len(k) != 6:\n",
    "        kegg_ids.remove(k)\n",
    "        \n",
    "# Serach KEGG ID's in http://cts.fiehnlab.ucdavis.edu/batch to INCHI\n",
    "\n",
    "str(kegg_ids).replace(\"\\'\",'')\n",
    "for k in kegg_ids:\n",
    "    pass\n",
    "    #print(k)\n",
    "    \n",
    "kegg_df = pd.DataFrame()\n",
    "for k in ['db/KEGG_part1.csv', 'db/KEGG_part2.csv', 'db/KEGG_part3.csv']:\n",
    "    temp_df = pd.read_csv(k) \n",
    "    kegg_df = pd.concat([kegg_df,temp_df])\n",
    "    \n",
    "kegg_hmdbs = kegg_df[kegg_df['Human Metabolome Database'] != 'No result'].copy(deep=True)\n",
    "bad_kegg_df = kegg_df[kegg_df['Human Metabolome Database'] == 'No result'].copy(deep=True)\n",
    "\n",
    "kegg_hmdbs_list = list(kegg_hmdbs['Human Metabolome Database'])"
   ]
  },
  {
   "cell_type": "code",
   "execution_count": 137,
   "metadata": {},
   "outputs": [],
   "source": [
    "def can_smiles_finchi(inchi):\n",
    "    try:\n",
    "        return Chem.MolToSmiles(Chem.MolFromInchi(inchi),True)\n",
    "    except:\n",
    "        return np.nan"
   ]
  },
  {
   "cell_type": "code",
   "execution_count": 157,
   "metadata": {},
   "outputs": [],
   "source": [
    "kegg_structs = bad_kegg_df[bad_kegg_df.InChIKey != 'undefined'].copy(deep=True)\n",
    "# Offline on chemical trasnlation service to Inchi\n",
    "\n",
    "kegg_struct_df = pd.read_csv('db/KEGG_part_4.csv')\n",
    "kegg_struct_df = kegg_struct_df.drop(columns=['From','To']).rename(columns={'Term':'kegg', 'Result':'inchi'}).copy(deep=True)\n",
    "kegg_struct_df['can_smiles'] = kegg_struct_df['inchi'].apply(lambda x: can_smiles_finchi(x))\n",
    "\n",
    "kegg_struct_list = list(kegg_struct_df['can_smiles'])\n",
    "kegg_hmdbs_2 = list(hmdb[hmdb.Smiles.isin(kegg_struct_list)].copy(deep=True).id)\n",
    "\n",
    "kegg_hmdb_df = hmdb[hmdb.id.isin(kegg_hmdbs_list + kegg_hmdbs_2)].copy(deep=True)\n",
    "\n",
    "kegg_not_hmdb = kegg_struct_df[~kegg_struct_df['can_smiles'].isin(list(kegg_hmdb_df.Smiles))]\n"
   ]
  },
  {
   "cell_type": "code",
   "execution_count": null,
   "metadata": {},
   "outputs": [],
   "source": []
  },
  {
   "cell_type": "code",
   "execution_count": 160,
   "metadata": {},
   "outputs": [
    {
     "name": "stderr",
     "output_type": "stream",
     "text": [
      "RDKit WARNING: [16:52:21] Warning: conflicting stereochemistry at atom 29 ignored.\n",
      "RDKit WARNING: [16:52:21] Warning: conflicting stereochemistry at atom 29 ignored.\n",
      "RDKit WARNING: [16:52:21] Warning: conflicting stereochemistry at atom 29 ignored.\n",
      "RDKit WARNING: [16:52:21] Warning: conflicting stereochemistry at atom 29 ignored.\n",
      "RDKit WARNING: [16:52:47] Warning: conflicting stereochemistry at atom 28 ignored.\n",
      "RDKit WARNING: [16:52:47] Warning: conflicting stereochemistry at atom 28 ignored.\n",
      "RDKit WARNING: [16:52:47] Warning: conflicting stereochemistry at atom 28 ignored.\n",
      "RDKit WARNING: [16:52:47] Warning: conflicting stereochemistry at atom 28 ignored.\n",
      "RDKit WARNING: [16:52:48] Warning: conflicting stereochemistry at atom 3 ignored.\n",
      "RDKit WARNING: [16:52:48] Warning: conflicting stereochemistry at atom 3 ignored.\n",
      "RDKit WARNING: [16:52:48] Warning: conflicting stereochemistry at atom 3 ignored.\n",
      "RDKit WARNING: [16:52:48] Warning: conflicting stereochemistry at atom 3 ignored.\n",
      "RDKit WARNING: [16:52:48] Warning: conflicting stereochemistry at atom 3 ignored.\n",
      "RDKit WARNING: [16:52:48] Warning: conflicting stereochemistry at atom 3 ignored.\n",
      "RDKit WARNING: [16:52:48] Warning: conflicting stereochemistry at atom 3 ignored.\n",
      "RDKit WARNING: [16:52:48] Warning: conflicting stereochemistry at atom 3 ignored.\n",
      "RDKit WARNING: [16:52:52] Warning: conflicting stereochemistry at atom 25 ignored.\n",
      "RDKit WARNING: [16:52:52] Warning: conflicting stereochemistry at atom 25 ignored.\n",
      "RDKit WARNING: [16:52:52] Warning: conflicting stereochemistry at atom 25 ignored.\n",
      "RDKit WARNING: [16:52:57] Warning: conflicting stereochemistry at atom 56 ignored.\n",
      "RDKit WARNING: [16:52:57] Warning: conflicting stereochemistry at atom 56 ignored.\n",
      "RDKit ERROR: [16:10:04] ERROR: \n",
      "RDKit ERROR: [16:10:04] ERROR: \n",
      "RDKit ERROR: [16:10:04] ERROR: \n",
      "RDKit ERROR: [16:10:04] ERROR: \n",
      "RDKit ERROR: [16:10:04] ERROR: \n",
      "RDKit ERROR: [16:10:04] ERROR: \n",
      "RDKit ERROR: [16:10:04] ERROR: \n",
      "RDKit ERROR: [16:10:04] ERROR: \n",
      "RDKit ERROR: [16:10:04] ERROR: \n",
      "RDKit ERROR: [16:10:04] ERROR: \n",
      "RDKit ERROR: [16:10:04] ERROR: \n",
      "RDKit ERROR: [16:10:04] ERROR: \n",
      "RDKit ERROR: [16:10:04] ERROR: \n",
      "RDKit ERROR: [16:10:04] ERROR: \n",
      "RDKit ERROR: [16:10:04] ERROR: \n",
      "RDKit ERROR: [16:10:04] ERROR: \n",
      "RDKit ERROR: [16:10:04] ERROR: \n",
      "RDKit ERROR: [16:10:04] ERROR: \n",
      "RDKit ERROR: [16:10:04] ERROR: \n",
      "RDKit ERROR: [16:10:04] ERROR: \n",
      "RDKit ERROR: [16:10:04] ERROR: \n",
      "RDKit ERROR: [16:10:04] ERROR: \n",
      "RDKit ERROR: [16:10:04] ERROR: \n",
      "RDKit ERROR: [16:10:04] ERROR: \n",
      "RDKit ERROR: [16:10:04] ERROR: \n",
      "RDKit ERROR: [16:10:04] ERROR: \n",
      "RDKit ERROR: [16:10:04] ERROR: \n",
      "RDKit ERROR: [16:10:04] ERROR: \n",
      "RDKit ERROR: [16:10:04] ERROR: \n",
      "RDKit ERROR: [16:10:04] ERROR: \n",
      "RDKit ERROR: [16:10:04] ERROR: \n",
      "RDKit ERROR: [16:10:04] ERROR: \n",
      "RDKit ERROR: [16:10:04] ERROR: \n",
      "RDKit ERROR: [16:10:04] ERROR: \n",
      "RDKit ERROR: [16:10:04] ERROR: \n",
      "RDKit ERROR: [16:10:04] ERROR: \n",
      "RDKit ERROR: [16:10:04] ERROR: \n",
      "RDKit ERROR: [16:10:04] ERROR: \n",
      "RDKit ERROR: [16:10:04] ERROR: \n",
      "RDKit ERROR: [16:10:04] ERROR: \n",
      "RDKit ERROR: [16:10:04] ERROR: \n",
      "RDKit ERROR: [16:10:04] ERROR: \n",
      "RDKit ERROR: [16:10:04] ERROR: \n",
      "RDKit ERROR: [16:10:04] ERROR: \n",
      "RDKit ERROR: [16:10:04] ERROR: \n",
      "RDKit ERROR: [16:10:04] ERROR: \n",
      "RDKit ERROR: [16:10:04] ERROR: \n",
      "RDKit ERROR: [16:10:04] ERROR: \n",
      "RDKit ERROR: [16:10:04] ERROR: \n",
      "RDKit ERROR: [16:10:04] ERROR: \n",
      "RDKit ERROR: [16:10:04] ERROR: \n",
      "RDKit ERROR: [16:10:04] ERROR: \n",
      "RDKit ERROR: [16:10:04] ERROR: \n",
      "RDKit ERROR: [16:10:04] ERROR: \n",
      "RDKit ERROR: [16:10:04] ERROR: \n",
      "RDKit ERROR: [16:10:04] ERROR: \n",
      "RDKit ERROR: [16:10:04] ERROR: \n",
      "RDKit ERROR: [16:10:04] ERROR: \n",
      "RDKit ERROR: [16:10:04] ERROR: \n",
      "RDKit ERROR: [16:10:04] ERROR: \n",
      "RDKit ERROR: [16:10:04] ERROR: \n",
      "RDKit ERROR: [16:10:04] ERROR: \n",
      "RDKit ERROR: [16:10:04] ERROR: \n",
      "RDKit ERROR: [16:10:04] ERROR: \n",
      "RDKit ERROR: [16:10:04] ERROR: \n",
      "RDKit ERROR: [16:10:04] ERROR: \n",
      "RDKit ERROR: [16:10:04] ERROR: \n",
      "RDKit ERROR: [16:10:04] ERROR: \n",
      "RDKit ERROR: [16:10:04] ERROR: \n",
      "RDKit ERROR: [16:10:04] ERROR: \n",
      "RDKit ERROR: [16:10:04] ERROR: \n",
      "RDKit ERROR: [16:10:04] ERROR: \n",
      "RDKit ERROR: [16:10:04] ERROR: \n",
      "RDKit ERROR: [16:10:04] ERROR: \n",
      "RDKit ERROR: [16:10:04] ERROR: \n",
      "RDKit ERROR: [16:10:04] ERROR: \n",
      "RDKit ERROR: [16:10:04] ERROR: \n",
      "RDKit ERROR: [16:10:04] ERROR: \n",
      "RDKit ERROR: [16:10:04] ERROR: \n",
      "RDKit ERROR: [16:10:04] ERROR: \n",
      "RDKit ERROR: [16:10:04] ERROR: \n",
      "RDKit ERROR: [16:10:04] ERROR: \n",
      "RDKit ERROR: [16:10:04] ERROR: \n",
      "RDKit ERROR: [16:10:04] ERROR: \n",
      "RDKit ERROR: [16:10:04] ERROR: \n",
      "RDKit ERROR: [16:10:04] ERROR: \n",
      "RDKit ERROR: [16:10:04] ERROR: \n",
      "RDKit ERROR: [16:10:04] ERROR: \n",
      "RDKit ERROR: [16:10:04] ERROR: \n",
      "RDKit ERROR: [16:10:04] ERROR: \n",
      "RDKit ERROR: [16:10:04] ERROR: \n",
      "RDKit ERROR: [16:10:04] ERROR: \n",
      "RDKit ERROR: [16:10:04] ERROR: \n",
      "RDKit ERROR: [16:10:04] ERROR: \n",
      "RDKit ERROR: [16:10:04] ERROR: \n",
      "RDKit ERROR: [16:10:04] ERROR: \n",
      "RDKit ERROR: [16:10:04] ERROR: \n",
      "RDKit ERROR: [16:10:04] ERROR: \n",
      "RDKit ERROR: [16:10:04] ERROR: \n",
      "RDKit ERROR: [16:10:04] ERROR: \n",
      "RDKit ERROR: [16:10:04] ERROR: \n",
      "RDKit ERROR: [16:10:04] ERROR: \n",
      "RDKit ERROR: [16:10:04] ERROR: \n",
      "RDKit ERROR: [16:10:04] ERROR: \n",
      "RDKit ERROR: [16:10:04] ERROR: \n",
      "RDKit ERROR: [16:10:04] ERROR: \n",
      "RDKit ERROR: [16:10:04] ERROR: \n",
      "RDKit ERROR: [16:10:04] ERROR: \n",
      "RDKit ERROR: [16:10:04] ERROR: \n",
      "RDKit ERROR: [16:10:04] ERROR: \n",
      "RDKit ERROR: [16:10:04] ERROR: \n",
      "RDKit ERROR: [16:10:04] ERROR: \n",
      "RDKit ERROR: [16:10:04] ERROR: \n",
      "RDKit ERROR: [16:10:04] ERROR: \n",
      "RDKit ERROR: [16:10:04] ERROR: \n",
      "RDKit ERROR: [16:10:04] ERROR: \n",
      "RDKit ERROR: [16:10:04] ERROR: \n",
      "RDKit ERROR: [16:10:04] ERROR: \n",
      "RDKit ERROR: [16:10:04] ERROR: \n",
      "RDKit ERROR: [16:10:04] ERROR: \n",
      "RDKit ERROR: [16:10:04] ERROR: \n",
      "RDKit ERROR: [16:10:04] ERROR: \n",
      "RDKit ERROR: [16:10:04] ERROR: \n",
      "RDKit ERROR: [16:10:04] ERROR: \n",
      "RDKit ERROR: [16:10:04] ERROR: \n",
      "RDKit ERROR: [16:10:04] ERROR: \n",
      "RDKit ERROR: [16:10:04] ERROR: \n",
      "RDKit ERROR: [16:10:04] ERROR: \n",
      "RDKit ERROR: [16:10:04] ERROR: \n",
      "RDKit ERROR: [16:10:04] ERROR: \n",
      "RDKit ERROR: [16:10:04] ERROR: \n",
      "RDKit ERROR: [16:10:04] ERROR: \n",
      "RDKit ERROR: [16:10:04] ERROR: \n",
      "RDKit ERROR: [16:10:04] ERROR: \n",
      "RDKit ERROR: [16:10:04] ERROR: \n",
      "RDKit ERROR: [16:10:04] ERROR: \n",
      "RDKit ERROR: [16:10:04] ERROR: \n",
      "RDKit ERROR: [16:10:04] ERROR: \n",
      "RDKit ERROR: [16:10:04] ERROR: \n",
      "RDKit ERROR: [16:10:04] ERROR: \n",
      "RDKit ERROR: [16:10:04] ERROR: \n",
      "RDKit ERROR: [16:10:04] ERROR: \n",
      "RDKit ERROR: [16:10:04] ERROR: \n",
      "RDKit ERROR: [16:10:04] ERROR: \n",
      "RDKit ERROR: [16:10:04] ERROR: \n",
      "RDKit ERROR: [16:10:04] ERROR: \n",
      "RDKit ERROR: [16:10:04] ERROR: \n",
      "RDKit ERROR: [16:10:04] ERROR: \n",
      "RDKit ERROR: [16:10:04] ERROR: \n",
      "RDKit ERROR: [16:10:04] ERROR: \n",
      "RDKit ERROR: [16:10:04] ERROR: \n",
      "RDKit ERROR: [16:10:04] ERROR: \n",
      "RDKit ERROR: [16:10:04] ERROR: \n",
      "RDKit ERROR: [16:10:04] ERROR: \n",
      "RDKit ERROR: [16:10:04] ERROR: \n",
      "RDKit ERROR: [16:10:04] ERROR: \n",
      "RDKit ERROR: [16:10:04] ERROR: \n",
      "RDKit ERROR: [16:10:04] ERROR: \n",
      "RDKit ERROR: [16:10:04] ERROR: \n",
      "RDKit ERROR: [16:10:04] ERROR: \n",
      "RDKit ERROR: [16:10:04] ERROR: \n",
      "RDKit ERROR: [16:10:04] ERROR: \n",
      "RDKit ERROR: [16:10:04] ERROR: \n",
      "RDKit ERROR: [16:10:04] ERROR: \n",
      "RDKit ERROR: [16:10:04] ERROR: \n",
      "RDKit ERROR: [16:10:04] ERROR: \n",
      "RDKit ERROR: [16:10:04] ERROR: \n",
      "RDKit ERROR: [16:10:04] ERROR: \n",
      "RDKit ERROR: [16:10:04] ERROR: \n",
      "RDKit ERROR: [16:10:04] ERROR: \n",
      "RDKit ERROR: [16:10:04] ERROR: \n",
      "RDKit ERROR: [16:10:04] ERROR: \n",
      "RDKit ERROR: [16:10:04] ERROR: \n",
      "RDKit ERROR: [16:10:04] ERROR: \n",
      "RDKit ERROR: [16:10:04] ERROR: \n",
      "RDKit ERROR: [16:10:04] ERROR: \n",
      "RDKit ERROR: [16:10:04] ERROR: \n",
      "RDKit ERROR: [16:10:04] ERROR: \n",
      "RDKit ERROR: [16:10:04] ERROR: \n",
      "RDKit ERROR: [16:10:04] ERROR: \n",
      "RDKit ERROR: [16:10:04] ERROR: \n",
      "RDKit ERROR: [16:10:04] ERROR: \n",
      "RDKit ERROR: [16:10:04] ERROR: \n",
      "RDKit ERROR: [16:10:04] ERROR: \n",
      "RDKit ERROR: [16:10:04] ERROR: \n",
      "RDKit ERROR: [16:10:04] ERROR: \n",
      "RDKit ERROR: [16:10:04] ERROR: \n",
      "RDKit ERROR: [16:10:04] ERROR: \n",
      "RDKit ERROR: [16:10:04] ERROR: \n",
      "RDKit ERROR: [16:10:04] ERROR: \n",
      "RDKit ERROR: [16:10:04] ERROR: \n",
      "RDKit ERROR: [16:10:04] ERROR: \n",
      "RDKit ERROR: [16:10:04] ERROR: \n",
      "RDKit ERROR: [16:53:19] SMILES Parse Error: syntax error while parsing: C([C@H](C)CO)C{-}/C=C(\\C{+n}C/C=C(/CC/C=C(\\C)/CC/C=C(\\C)/C)\\C)/C\n",
      "RDKit ERROR: [16:53:19] SMILES Parse Error: Failed parsing SMILES 'C([C@H](C)CO)C{-}/C=C(\\C{+n}C/C=C(/CC/C=C(\\C)/CC/C=C(\\C)/C)\\C)/C' for input: 'C([C@H](C)CO)C{-}/C=C(\\C{+n}C/C=C(/CC/C=C(\\C)/CC/C=C(\\C)/C)\\C)/C'\n",
      "RDKit ERROR: [16:53:19] SMILES Parse Error: syntax error while parsing: C([C@H](C)C(=O)O)C{-}/C=C(\\C{+n}C/C=C(/CC/C=C(\\C)/CC/C=C(\\C)/C)\\C)/C\n",
      "RDKit ERROR: [16:53:19] SMILES Parse Error: Failed parsing SMILES 'C([C@H](C)C(=O)O)C{-}/C=C(\\C{+n}C/C=C(/CC/C=C(\\C)/CC/C=C(\\C)/C)\\C)/C' for input: 'C([C@H](C)C(=O)O)C{-}/C=C(\\C{+n}C/C=C(/CC/C=C(\\C)/CC/C=C(\\C)/C)\\C)/C'\n",
      "RDKit ERROR: [16:53:19] SMILES Parse Error: syntax error while parsing: C([C@H](C)CC(O)=O)C{-}/C=C(\\C{+n}C/C=C(/CC/C=C(\\C)/CC/C=C(\\C)/C)\\C)/C\n",
      "RDKit ERROR: [16:53:19] SMILES Parse Error: Failed parsing SMILES 'C([C@H](C)CC(O)=O)C{-}/C=C(\\C{+n}C/C=C(/CC/C=C(\\C)/CC/C=C(\\C)/C)\\C)/C' for input: 'C([C@H](C)CC(O)=O)C{-}/C=C(\\C{+n}C/C=C(/CC/C=C(\\C)/CC/C=C(\\C)/C)\\C)/C'\n"
     ]
    }
   ],
   "source": [
    "# Lipid maps:\n",
    "lm_df = LoadSDF('db/LMSD_20191002.sdf', smilesName='smiles')\n",
    "lm_df['can_smiles'] = lm_df['SMILES'].apply(lambda x: can_smiles(x))\n",
    "lm_df = lm_df.dropna(subset=['can_smiles'])\n",
    "lm_list = list(lm_df.can_smiles)\n",
    "hmdb_lm_df = hmdb[hmdb.Smiles.isin(lm_list)].copy(deep=True)"
   ]
  },
  {
   "cell_type": "code",
   "execution_count": 177,
   "metadata": {},
   "outputs": [
    {
     "name": "stderr",
     "output_type": "stream",
     "text": [
      "RDKit ERROR: [17:10:18] Explicit valence for atom # 15 N, 4, is greater than permitted\n"
     ]
    }
   ],
   "source": [
    "# MSMLS (CMRBR stds)\n",
    "msmls = pd.read_csv('db/MSMLS.tsv', sep='\\t')\n",
    "msmls['can_smiles'] = msmls['smiles'].apply(lambda x: can_smiles(x))\n",
    "msmls = msmls.dropna(subset=['can_smiles'])\n",
    "msmls_list = list(msmls.can_smiles)\n",
    "hmdb_ms_df = hmdb[hmdb.Smiles.isin(msmls_list)].copy(deep=True)\n",
    "msmls_not_hm = msmls[~msmls.can_smiles.isin(hmdb.Smiles)]"
   ]
  },
  {
   "cell_type": "code",
   "execution_count": 6,
   "metadata": {},
   "outputs": [],
   "source": [
    "# Veronika's standards and Mayo clinic:\n",
    "manual = pd.read_csv('db/core_metabolites.tsv', sep='\\t')\n",
    "hmdb_man = list(man_hmdb.HDMB.unique())[1:]\n",
    "hmdb_man_df = hmdb[hmdb.id.isin(hmdb_man)].copy(deep=True)"
   ]
  },
  {
   "cell_type": "code",
   "execution_count": 33,
   "metadata": {},
   "outputs": [],
   "source": [
    "not_hmdb = manual.dropna(subset=['SMILES']).copy(deep=True)"
   ]
  },
  {
   "cell_type": "code",
   "execution_count": 34,
   "metadata": {},
   "outputs": [],
   "source": [
    "# Save your work:\n",
    "hmdb_hey_df.to_pickle('df_pickles/hmdb_hey_df')\n",
    "kegg_hmdb_df.to_pickle('df_pickles/kegg_hmdb_df')\n",
    "kegg_not_hmdb.to_pickle('df_pickles/kegg_not_hmdb')\n",
    "hmdb_lm_df.to_pickle('df_pickles/hmdb_lm_df')\n",
    "hmdb_ms_df.to_pickle('df_pickles/hmdb_ms_df')\n",
    "msmls_not_hm.to_pickle('df_pickles/msmls_not_hm')\n",
    "hmdb_man_df.to_pickle('df_pickles/hmdb_man_df')\n",
    "not_hmdb.to_pickle('df_pickles/not_hmdb')\n",
    "hmdb_det_df.to_pickle('df_pickles/hmdb_det_df')"
   ]
  },
  {
   "cell_type": "code",
   "execution_count": 13,
   "metadata": {},
   "outputs": [],
   "source": [
    "# 1. Intersection of HMDB,* ECMDB,* YMDB*\n",
    "hmdb_hey_df: 333\n",
    "\n",
    "# 2. KEGG*\n",
    "kegg_hmdb_df:306\n",
    "kegg_not_hmdb: 166 # To parse custom db\n",
    "\n",
    "# 3. Lipid Maps*\n",
    "hmdb_lm_df: 6316\n",
    "\n",
    "# 4. MSMLS (CMBR stds)*\n",
    "hmdb_ms_df: 324\n",
    "msmls_not_hm: 204\n",
    "\n",
    "# 5. Veronika's standards* \n",
    "# 7. Mayo clinic targeted*\n",
    "hmdb_man_df: 153\n",
    "not_hmdb: 4  # To parse custom db\n",
    "\n",
    "# 6. HMDB* with evidence of existence\n",
    "hmdb_det_df: 9008"
   ]
  },
  {
   "cell_type": "code",
   "execution_count": 36,
   "metadata": {},
   "outputs": [],
   "source": [
    "# Load and join everything\n",
    "core_df = pd.DataFrame()\n",
    "df_list = ['hmdb_hey_df', 'kegg_hmdb_df', 'hmdb_lm_df', \n",
    "           'hmdb_ms_df', 'hmdb_man_df', 'hmdb_det_df']\n",
    "for df in df_list:\n",
    "    df = pd.read_pickle('df_pickles/' + df)\n",
    "    core_df = pd.concat([core_df, df])\n",
    "    \n",
    "core_df.drop_duplicates(keep=False,inplace=True)\n",
    "core_df.to_pickle('core_metabolome_df.pickle')\n",
    "core_df['formula'] = core_df['Molecule'].apply(lambda x: CalcMolFormula(x))\n",
    "cols = ['id', 'mol_name', 'formula', 'inchi'] \n",
    "core_df = core_df[cols].rename(columns={'mol_name': 'name'}).copy(deep=True)"
   ]
  },
  {
   "cell_type": "code",
   "execution_count": 38,
   "metadata": {},
   "outputs": [],
   "source": [
    "new_db_list = ['df_pickles/kegg_not_hmdb', #166\n",
    "               'df_pickles/msmls_not_hm', #210\n",
    "               'df_pickles/not_hmdb'] #4"
   ]
  },
  {
   "cell_type": "code",
   "execution_count": 124,
   "metadata": {},
   "outputs": [],
   "source": [
    "df = pd.read_pickle(new_db_list[0])\n",
    "df['formula'] = df['can_smiles'].apply(lambda x: CalcMolFormula(Chem.MolFromSmiles(x)))\n",
    "df = df.reset_index()\n",
    "df = df.rename(columns={'kegg':'id'}).copy(deep=True)"
   ]
  },
  {
   "cell_type": "code",
   "execution_count": 125,
   "metadata": {},
   "outputs": [],
   "source": [
    "colnames=['id', 'name']\n",
    "kegg_names = pd.read_csv('db/br08001.keg', sep='@', names=colnames)\n",
    "kegg_names.id = kegg_names.id.str.strip()\n",
    "df = df.merge(kegg_names, left_on='id', right_on='id', how='left')\n",
    "df1 = df[['id', 'name', 'formula', 'inchi']].drop_duplicates().copy(deep=True)"
   ]
  },
  {
   "cell_type": "code",
   "execution_count": 162,
   "metadata": {},
   "outputs": [
    {
     "name": "stdout",
     "output_type": "stream",
     "text": [
      "       id                    name  formula  \\\n",
      "2  msmls2  1-HYDROXY-2-NAPHTHOATE  C11H8O3   \n",
      "5  msmls5    1-METHYLNICOTINAMIDE  C7H9N2O   \n",
      "\n",
      "                                               inchi  \n",
      "2  InChI=1S/C11H8O3/c12-10-8-4-2-1-3-7(8)5-6-9(10...  \n",
      "5  InChI=1S/C7H8N2O/c1-9-4-2-3-6(5-9)7(8)10/h2-5H...  \n"
     ]
    }
   ],
   "source": [
    "df = pd.read_pickle(new_db_list[1])\n",
    "df = df.rename(columns={'cmpd':'name'}).copy(deep=True)\n",
    "df['index1'] = df.index\n",
    "df['id'] = df['index1'].apply(lambda x: 'msmls' + str(x))\n",
    "df['inchi'] = df['can_smiles'].apply(lambda x: MolToInchi(MolFromSmiles(x)))\n",
    "df2 = df[['id', 'name', 'formula', 'inchi']].drop_duplicates().copy(deep=True)"
   ]
  },
  {
   "cell_type": "code",
   "execution_count": 172,
   "metadata": {},
   "outputs": [
    {
     "data": {
      "text/html": [
       "<div>\n",
       "<style scoped>\n",
       "    .dataframe tbody tr th:only-of-type {\n",
       "        vertical-align: middle;\n",
       "    }\n",
       "\n",
       "    .dataframe tbody tr th {\n",
       "        vertical-align: top;\n",
       "    }\n",
       "\n",
       "    .dataframe thead th {\n",
       "        text-align: right;\n",
       "    }\n",
       "</style>\n",
       "<table border=\"1\" class=\"dataframe\">\n",
       "  <thead>\n",
       "    <tr style=\"text-align: right;\">\n",
       "      <th></th>\n",
       "      <th>id</th>\n",
       "      <th>name</th>\n",
       "      <th>formula</th>\n",
       "      <th>inchi</th>\n",
       "    </tr>\n",
       "  </thead>\n",
       "  <tbody>\n",
       "    <tr>\n",
       "      <td>0</td>\n",
       "      <td>68067</td>\n",
       "      <td>1,8-diaminonaphtalene</td>\n",
       "      <td>C10H10N2</td>\n",
       "      <td>InChI=1S/C10H10N2/c11-8-5-1-3-7-4-2-6-9(12)10(...</td>\n",
       "    </tr>\n",
       "    <tr>\n",
       "      <td>1</td>\n",
       "      <td>3469</td>\n",
       "      <td>2,5-dihydroxybenzoic acid</td>\n",
       "      <td>C7H6O4</td>\n",
       "      <td>InChI=1S/C7H6O4/c8-4-1-2-6(9)5(3-4)7(10)11/h1-...</td>\n",
       "    </tr>\n",
       "    <tr>\n",
       "      <td>2</td>\n",
       "      <td>7019</td>\n",
       "      <td>9-aminoacridine</td>\n",
       "      <td>C13H10N2</td>\n",
       "      <td>InChI=1S/C13H10N2/c14-13-9-5-1-3-7-11(9)15-12-...</td>\n",
       "    </tr>\n",
       "    <tr>\n",
       "      <td>73</td>\n",
       "      <td>11966124</td>\n",
       "      <td>C14-CoA</td>\n",
       "      <td>C35H62N7O17P3S</td>\n",
       "      <td>InChI=1S/C35H62N7O17P3S/c1-4-5-6-7-8-9-10-11-1...</td>\n",
       "    </tr>\n",
       "  </tbody>\n",
       "</table>\n",
       "</div>"
      ],
      "text/plain": [
       "          id                       name         formula  \\\n",
       "0      68067      1,8-diaminonaphtalene        C10H10N2   \n",
       "1       3469  2,5-dihydroxybenzoic acid          C7H6O4   \n",
       "2       7019            9-aminoacridine        C13H10N2   \n",
       "73  11966124                    C14-CoA  C35H62N7O17P3S   \n",
       "\n",
       "                                                inchi  \n",
       "0   InChI=1S/C10H10N2/c11-8-5-1-3-7-4-2-6-9(12)10(...  \n",
       "1   InChI=1S/C7H6O4/c8-4-1-2-6(9)5(3-4)7(10)11/h1-...  \n",
       "2   InChI=1S/C13H10N2/c14-13-9-5-1-3-7-11(9)15-12-...  \n",
       "73  InChI=1S/C35H62N7O17P3S/c1-4-5-6-7-8-9-10-11-1...  "
      ]
     },
     "execution_count": 172,
     "metadata": {},
     "output_type": "execute_result"
    }
   ],
   "source": [
    "df = pd.read_pickle(new_db_list[2])\n",
    "df['inchi'] = df['SMILES'].apply(lambda x: MolToInchi(MolFromSmiles(x)))\n",
    "df = df.rename(columns={'Name':'name', 'PubChem CID:': 'id',\n",
    "                       'Formula': 'formula'}).copy(deep=True)\n",
    "df3 = df[['id', 'name', 'formula', 'inchi']].drop_duplicates().copy(deep=True)\n",
    "df3"
   ]
  },
  {
   "cell_type": "code",
   "execution_count": 189,
   "metadata": {},
   "outputs": [
    {
     "data": {
      "text/plain": [
       "(13965, 4)"
      ]
     },
     "execution_count": 189,
     "metadata": {},
     "output_type": "execute_result"
    }
   ],
   "source": [
    "df = pd.concat([df1, df2])\n",
    "df = pd.concat([df, df3])\n",
    "core_df = pd.concat([df, core_df])\n",
    "core_df = core_df.dropna().copy(deep=True)\n",
    "core_df = core_df.drop_duplicates().copy(deep=True)\n",
    "core_metabolome.to_pickle('core_metabolome_v1.pickle')\n",
    "core_metabolome.to_csv('core_metabolome_v1.txt', sep='\\t', index=False)\n",
    "core_df.shape"
   ]
  },
  {
   "cell_type": "code",
   "execution_count": 3,
   "metadata": {},
   "outputs": [],
   "source": [
    "core_metabolome = pd.read_pickle('core_metabolome_v1.pickle')"
   ]
  },
  {
   "cell_type": "code",
   "execution_count": 4,
   "metadata": {},
   "outputs": [],
   "source": [
    "def neutral(test):\n",
    "    if '-' in test:\n",
    "        x = test.split('-')[0]\n",
    "        if 'H' not in x:\n",
    "            prefix = x\n",
    "            final_suffix = 'H'\n",
    "        else:       \n",
    "            x = x.split('H')\n",
    "            prefix = x[0]\n",
    "            suffix = x[1]\n",
    "            if suffix[0].isdigit() is False:\n",
    "                # CHX\n",
    "                final_suffix = 'H2' + suffix\n",
    "            else:\n",
    "                if suffix[1].isdigit() is False:\n",
    "                    # CHnX\n",
    "                    n = int(suffix[0])\n",
    "                    n +=1\n",
    "                    s_list = list(suffix)[1:]          \n",
    "                    final_suffix = 'H' + str(n) + \"\".join(s_list)\n",
    "                elif suffix[2].isdigit() is False:\n",
    "                    # CHnnX\n",
    "                    s_list = list(suffix)\n",
    "                    n = int(str(s_list[0]) + str(s_list[1]))\n",
    "                    n += 1\n",
    "                    s_list = list(suffix)[2:]\n",
    "                    final_suffix = 'H' + str(n) + \"\".join(s_list)\n",
    "                else:\n",
    "                    # CHnnnX\n",
    "                    s_list = list(suffix)\n",
    "                    n = int(str(s_list[0]) + str(s_list[1]) + str(s_list[2]))\n",
    "                    n += 1\n",
    "                    s_list = list(suffix)[3:]\n",
    "                    final_suffix = 'H' + str(n) + \"\".join(s_list)\n",
    "        return (prefix + final_suffix)\n",
    "    elif '+' in test and 'H' in test:\n",
    "        x = test.split('+')[0]\n",
    "        x = x.split('H')\n",
    "        prefix = x[0]\n",
    "        suffix = x[1]\n",
    "        if len(suffix) is 0:\n",
    "            return prefix + 'H2'\n",
    "        \n",
    "        if suffix[0].isdigit() is False:\n",
    "            # CH2X\n",
    "            final_suffix = suffix\n",
    "        else:\n",
    "            if suffix[1].isdigit() is False:\n",
    "                # CHnX\n",
    "                n = int(suffix[0])\n",
    "                n -=1\n",
    "                s_list = list(suffix)[1:]          \n",
    "                final_suffix = 'H' + str(n) + \"\".join(s_list)\n",
    "            elif suffix[2].isdigit() is False:\n",
    "                # CHnnX\n",
    "                s_list = list(suffix)\n",
    "                n = int(str(s_list[0]) + str(s_list[1]))\n",
    "                n -= 1\n",
    "                s_list = list(suffix)[2:]\n",
    "                final_suffix = 'H' + str(n) + \"\".join(s_list)\n",
    "            else:\n",
    "                # CHnnnX\n",
    "                s_list = list(suffix)\n",
    "                n = int(str(s_list[0]) + str(s_list[1]) + str(s_list[2]))\n",
    "                n -= 1\n",
    "                s_list = list(suffix)[3:]\n",
    "                final_suffix = 'H' + str(n) + \"\".join(s_list)\n",
    "        return (prefix + final_suffix)\n",
    "    else:\n",
    "        return test"
   ]
  },
  {
   "cell_type": "code",
   "execution_count": 5,
   "metadata": {},
   "outputs": [],
   "source": [
    "core_metabolome['formula'] = core_metabolome['formula'].apply(lambda x:\n",
    "                                                             neutral(x))"
   ]
  },
  {
   "cell_type": "code",
   "execution_count": 7,
   "metadata": {},
   "outputs": [
    {
     "data": {
      "text/plain": [
       "0"
      ]
     },
     "execution_count": 7,
     "metadata": {},
     "output_type": "execute_result"
    }
   ],
   "source": [
    "core_metabolome.formula.str.contains('-').sum() # 9 negative, all salts, okay to drop."
   ]
  },
  {
   "cell_type": "code",
   "execution_count": 15,
   "metadata": {},
   "outputs": [
    {
     "data": {
      "text/plain": [
       "0"
      ]
     },
     "execution_count": 15,
     "metadata": {},
     "output_type": "execute_result"
    }
   ],
   "source": [
    "core_metabolome.formula.str.contains('\\+').sum() # 94 positives"
   ]
  },
  {
   "cell_type": "code",
   "execution_count": 13,
   "metadata": {},
   "outputs": [],
   "source": [
    "metals = list(core_metabolome[core_metabolome.formula.str.contains('\\+')].name)\n",
    "core_metabolome = core_metabolome[~core_metabolome.name.isin(metals)].copy(deep=True)"
   ]
  },
  {
   "cell_type": "code",
   "execution_count": 47,
   "metadata": {},
   "outputs": [
    {
     "data": {
      "text/plain": [
       "15129                                     5-Deoxykievitone\n",
       "14930                                  2'-Hydroxygenistein\n",
       "41806                                    Thiocarbamic acid\n",
       "161                             7alpha-Hydroxytestosterone\n",
       "2810                          3-Sialyl-N-acetyllactosamine\n",
       "902                                          Pyruvaldehyde\n",
       "8492                                       12(13)Ep-9-KODE\n",
       "4090                  PC(18:0/22:6(4Z,7Z,10Z,13Z,16Z,19Z))\n",
       "34753    TG(22:2(13Z,16Z)/16:1(9Z)/22:6(4Z,7Z,10Z,13Z,1...\n",
       "34148    TG(20:3n6/20:3(5Z,8Z,11Z)/22:6(4Z,7Z,10Z,13Z,1...\n",
       "Name: name, dtype: object"
      ]
     },
     "execution_count": 47,
     "metadata": {},
     "output_type": "execute_result"
    }
   ],
   "source": [
    "core_metabolome.name.sample(10)"
   ]
  },
  {
   "cell_type": "code",
   "execution_count": 49,
   "metadata": {},
   "outputs": [],
   "source": [
    "core_metabolome.to_pickle('core_metabolome_v2.pickle')\n",
    "core_metabolome.to_csv('core_metabolome_v2.txt', sep='\\t', index=False)\n",
    "core_metabolome.to_csv('/Users/dis/PycharmProjects/neutral_loss/core_metabolome_v2.txt', sep='\\t', index=False)"
   ]
  },
  {
   "cell_type": "code",
   "execution_count": null,
   "metadata": {},
   "outputs": [],
   "source": []
  }
 ],
 "metadata": {
  "kernelspec": {
   "display_name": "Python 3",
   "language": "python",
   "name": "python3"
  },
  "language_info": {
   "codemirror_mode": {
    "name": "ipython",
    "version": 3
   },
   "file_extension": ".py",
   "mimetype": "text/x-python",
   "name": "python",
   "nbconvert_exporter": "python",
   "pygments_lexer": "ipython3",
   "version": "3.6.8"
  }
 },
 "nbformat": 4,
 "nbformat_minor": 2
}
